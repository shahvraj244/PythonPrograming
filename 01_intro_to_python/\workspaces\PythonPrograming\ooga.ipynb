# This is a single-line comment

"""
08/20/2025
Introduction to Python
"""

print("Comments are not executed")
# Variables
name = "Jack"
age = 25
height = 5.6

print(name, age, height)

# Declaring Variables with Type Annotations
name: str = "Igor"
age: int = 30
height: float = 6.0

print(f"Name: {name}, Age: {age}, Height: {height}")
# Arithmetic
a = 5
b = 9
print(b / a)
print(b // a)   # integer division
print(b**a)     # exponent
print(b % a)    # the remainder

