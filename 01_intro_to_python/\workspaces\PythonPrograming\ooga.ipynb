{
 "cells": [
  {
   "cell_type": "code",
   "execution_count": 3,
   "id": "1995defc",
   "metadata": {},
   "outputs": [
    {
     "name": "stdout",
     "output_type": "stream",
     "text": [
      "Comments are not executed\n",
      "Color:Black,power: 200, type: RV\n"
     ]
    }
   ],
   "source": [
    "#Hello \n",
    "\"\"\"\n",
    "8/20/2025\n",
    "Introduction to python\n",
    "\"\"\"\n",
    "print(\"Comments are not executed\")\n",
    "color: str = \"Black\"\n",
    "power: int = 200\n",
    "type: str = \"RV\"\n",
    "print(f\"Color:{color},power: {power}, type: {type}\")"
   ]
  },
  {
   "cell_type": "code",
   "execution_count": 5,
   "id": "43a1f003",
   "metadata": {},
   "outputs": [
    {
     "name": "stdout",
     "output_type": "stream",
     "text": [
      "1.8\n",
      "1\n",
      "59049\n",
      "4\n"
     ]
    }
   ],
   "source": [
    "#Arithiimetic\n",
    "a = 9\n",
    "b= 5\n",
    "print(a/b)\n",
    "print(a//b)\n",
    "print(a**b)\n",
    "print(a % b)"
   ]
  }
 ],
 "metadata": {
  "kernelspec": {
   "display_name": "Python 3",
   "language": "python",
   "name": "python3"
  },
  "language_info": {
   "codemirror_mode": {
    "name": "ipython",
    "version": 3
   },
   "file_extension": ".py",
   "mimetype": "text/x-python",
   "name": "python",
   "nbconvert_exporter": "python",
   "pygments_lexer": "ipython3",
   "version": "3.12.1"
  }
 },
 "nbformat": 4,
 "nbformat_minor": 5
}
